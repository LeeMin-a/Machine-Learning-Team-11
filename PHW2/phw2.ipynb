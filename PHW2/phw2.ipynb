{
 "cells": [
  {
   "cell_type": "code",
   "execution_count": null,
   "metadata": {},
   "outputs": [],
   "source": [
    "from mpl_toolkits.mplot3d import Axes3D\n",
    "from sklearn.preprocessing import StandardScaler\n",
    "from sklearn.preprocessing import MinMaxScaler\n",
    "from sklearn.preprocessing import RobustScaler\n",
    "from sklearn.cluster import KMeans\n",
    "from sklearn.mixture import GaussianMixture\n",
    "from sklearn.datasets import make_blobs\n",
    "import matplotlib.pyplot as plt \n",
    "import numpy as np \n",
    "import os \n",
    "import pandas as pd\n",
    "import seaborn as sns"
   ]
  },
  {
   "cell_type": "code",
   "execution_count": null,
   "metadata": {},
   "outputs": [],
   "source": [
    "dx=pd.read_csv(\"housing.csv\")\n",
    "df= dx.copy()\n",
    "df.head(5)"
   ]
  },
  {
   "cell_type": "code",
   "execution_count": null,
   "metadata": {},
   "outputs": [],
   "source": [
    "df.describe()"
   ]
  },
  {
   "cell_type": "code",
   "execution_count": null,
   "metadata": {},
   "outputs": [],
   "source": [
    "sns.heatmap(df.corr())"
   ]
  },
  {
   "cell_type": "code",
   "execution_count": null,
   "metadata": {},
   "outputs": [],
   "source": [
    "df.columns"
   ]
  },
  {
   "cell_type": "code",
   "execution_count": null,
   "metadata": {},
   "outputs": [],
   "source": [
    "df.hist(bins=50,figsize=(20,15))\n",
    "plt.show()"
   ]
  },
  {
   "cell_type": "code",
   "execution_count": null,
   "metadata": {},
   "outputs": [],
   "source": [
    "x=df.ocean_proximity\n",
    "y=df.median_house_value\n",
    "sns.barplot(x,y)"
   ]
  },
  {
   "cell_type": "code",
   "execution_count": null,
   "metadata": {},
   "outputs": [],
   "source": [
    "x=df.longitude\n",
    "y=df.latitude\n",
    "fig,ax=plt.subplots(2,2,figsize=(25,20))\n",
    "fig.suptitle(\"data - price Map\")\n",
    "ax[0][0].set_title(\"median_house_value\")\n",
    "sns.scatterplot(x=x,y=y,hue=df.median_house_value,ax=ax[0][0])\n",
    "ax[0][1].set_title(\"ocean_proximity\")\n",
    "sns.scatterplot(x=x,y=y,hue=df.ocean_proximity,ax=ax[0][1])\n",
    "ax[1][0].set_title(\"median_income\")\n",
    "sns.scatterplot(x=x,y=y,hue=df.median_income,ax=ax[1][0])\n",
    "ax[1][1].set_title(\"population\")\n",
    "sns.scatterplot(x=x,y=y,hue=df.population,ax=ax[1][1])"
   ]
  },
  {
   "cell_type": "code",
   "execution_count": null,
   "metadata": {},
   "outputs": [],
   "source": [
    "# median_income - households Map for ocean_proximity\n",
    "x=df.median_income\n",
    "y=df.households\n",
    "sns.scatterplot(x,y,hue=df[\"ocean_proximity\"],)"
   ]
  },
  {
   "cell_type": "code",
   "execution_count": null,
   "metadata": {},
   "outputs": [],
   "source": [
    "# compare various attribute\n",
    "\n",
    "df[\"rooms_per_household\"]=df[\"total_rooms\"]/df[\"households\"]\n",
    "df[\"bedrooms_per_room\"]=df[\"total_bedrooms\"]/df[\"total_rooms\"]\n",
    "df[\"population_per_householed\"]=df[\"population\"]/df[\"households\"]\n",
    "\n",
    "df.head()"
   ]
  },
  {
   "cell_type": "code",
   "execution_count": null,
   "metadata": {},
   "outputs": [],
   "source": [
    "# Display number of null or NaN values for each column. Remove rows containing null or Nan values.\n",
    "print(df.isnull().sum())\n",
    "df = df.dropna()"
   ]
  },
  {
   "cell_type": "code",
   "execution_count": null,
   "metadata": {},
   "outputs": [],
   "source": [
    "# encoding categorical value\n",
    "\n",
    "df_ocean=df[[\"ocean_proximity\"]]\n",
    "df_ocean.head()"
   ]
  },
  {
   "cell_type": "code",
   "execution_count": null,
   "metadata": {},
   "outputs": [],
   "source": [
    "# encoding1 - label encoding\n",
    "\n",
    "from sklearn.preprocessing import LabelEncoder\n",
    "label_encoder = LabelEncoder()\n",
    "label_encoded = label_encoder.fit_transform(df_ocean)\n",
    "df['ocean_proximity'] = label_encoded\n",
    "\n",
    "print(label_encoded)\n",
    "label_encoder.classes_\n",
    "sns.countplot(df['ocean_proximity'])"
   ]
  },
  {
   "cell_type": "code",
   "execution_count": null,
   "metadata": {},
   "outputs": [],
   "source": [
    "# encoding2 - astype('category').cat.codes\n",
    "\n",
    "df['ocean_proximity'].astype('category').cat.codes"
   ]
  },
  {
   "cell_type": "code",
   "execution_count": null,
   "metadata": {},
   "outputs": [],
   "source": [
    "# encoding3 - frequency encoding\n",
    "\n",
    "# grouping by frequency\n",
    "fq_encoder = df.groupby('ocean_proximity').size()/len(df)\n",
    "# mapping values to dataframe\n",
    "df.loc[:, \"{}_freq_encode\".format('nocean_proximityom_0')] = df['ocean_proximity'].map(fq_encoder)\n",
    "\n",
    "fq_encoder.plot.bar(stacked=True)"
   ]
  },
  {
   "cell_type": "code",
   "execution_count": null,
   "metadata": {},
   "outputs": [],
   "source": [
    "df.head()"
   ]
  },
  {
   "cell_type": "code",
   "execution_count": null,
   "metadata": {},
   "outputs": [],
   "source": [
    "data = df.iloc[:,0:10]\n",
    "target = df.iloc[:,10]\n",
    "\n",
    "features = ['longitude', 'latitude', 'median_house_value']\n",
    "selected_df = data[features]\n"
   ]
  },
  {
   "cell_type": "code",
   "execution_count": null,
   "metadata": {},
   "outputs": [],
   "source": [
    "# scaling1 - standard scaler\n",
    "\n",
    "ss_scaler = StandardScaler()\n",
    "ss_data = ss_scaler.fit_transform(selected_df)\n",
    "ss_data = pd.DataFrame(ss_data)"
   ]
  },
  {
   "cell_type": "code",
   "execution_count": null,
   "metadata": {},
   "outputs": [],
   "source": [
    "# scaling2 - minmax scaler\n",
    "\n",
    "mm_scaler = MinMaxScaler()\n",
    "mm_data = mm_scaler.fit_transform(selected_df)\n",
    "mm_data = pd.DataFrame(mm_data)"
   ]
  },
  {
   "cell_type": "code",
   "execution_count": null,
   "metadata": {},
   "outputs": [],
   "source": [
    "# scaling3 - robust scaler\n",
    "\n",
    "r_scaler = RobustScaler()\n",
    "r_data = r_scaler.fit_transform(selected_df)\n",
    "r_data = pd.DataFrame(r_data)"
   ]
  },
  {
   "cell_type": "code",
   "execution_count": null,
   "metadata": {},
   "outputs": [],
   "source": [
    "# K-means\n",
    "k_arr = [2, 4, 6, 8, 10]\n",
    "\n",
    "for k in k_arr:\n",
    "    model = KMeans(n_clusters = k, random_state=10)\n",
    "\n",
    "    model.fit(ss_data)\n",
    "\n",
    "    cluster_name = 'kmeans_cluster' + str(k)\n",
    "    df[cluster_name] = model.fit_predict(ss_data)\n",
    "\n",
    "    plt.figure(figsize = (25, 20))\n",
    "\n",
    "    for i in range(k):\n",
    "        plt.scatter(df.loc[df[cluster_name] == i, 'longitude'], df.loc[df[cluster_name] == i, 'latitude'], label = 'cluster' + str(i))\n",
    "\n",
    "    plt.legend()\n",
    "    plt.title('K = %d results'%k)\n",
    "    plt.xlabel('longitude')\n",
    "    plt.ylabel('latitude')\n",
    "    plt.show()"
   ]
  },
  {
   "cell_type": "code",
   "execution_count": null,
   "metadata": {},
   "outputs": [],
   "source": [
    "# EM\n",
    "for k in k_arr:\n",
    "    gmm = GaussianMixture(n_components=k, random_state=10)\n",
    "    gmm.fit(ss_data)\n",
    "    gmm_labels = gmm.fit_predict(ss_data)\n",
    "\n",
    "    cluster_name_gmm = 'gmm_cluster' + str(k)\n",
    "\n",
    "    df[cluster_name_gmm] = gmm_labels\n",
    "\n",
    "    plt.figure(figsize = (25, 20))\n",
    "\n",
    "    for i in range(k):\n",
    "        plt.scatter(df.loc[df[cluster_name_gmm] == i, 'longitude'], df.loc[df[cluster_name_gmm] == i, 'latitude'], label = 'cluster' + str(i))\n",
    "\n",
    "    plt.legend()\n",
    "    plt.title('K = %d results'%k)\n",
    "    plt.xlabel('longitude')\n",
    "    plt.ylabel('latitude')\n",
    "    plt.show()"
   ]
  },
  {
   "cell_type": "code",
   "execution_count": null,
   "metadata": {},
   "outputs": [],
   "source": [
    "from sklearn.cluster import DBSCAN\n",
    "from sklearn.metrics import silhouette_score\n",
    "#DBSCAN\n",
    "\n",
    "def dbscan(data, combination, eps, min_samples):\n",
    "  \"\"\"\n",
    "  Args:\n",
    "    data `dataframe`: train data\n",
    "    combination `list`: list of feature\n",
    "    eps `float`: eps\n",
    "    min_samples `float`: min_samples\n",
    "  Return:\n",
    "    combination `list`: list of feature\n",
    "    score `float`: score of model\n",
    "  \"\"\"\n",
    "  dbsc = DBSCAN(eps= eps, min_samples= min_samples)\n",
    "  featureCom = data[combination] \n",
    "  dbsc.fit(data)\n",
    "  featureCom['cluster'] = dbsc.fit_predict(featureCom)\n",
    "  sns.pairplot(featureCom, hue='cluster')\n",
    "  plt.show()\n",
    "  print(dbsc.labels_)\n",
    "  if len(featureCom['cluster'].unique()) == 1:\n",
    "    return combination, -1\n",
    "  score = silhouette_score(data, dbsc.labels_, metric='euclidean')\n",
    "\n",
    "  return combination, score\n"
   ]
  },
  {
   "cell_type": "code",
   "execution_count": null,
   "metadata": {},
   "outputs": [],
   "source": [
    "# Silhoutte Score Measure\n",
    "\n",
    "from sklearn.metrics import silhouette_score\n",
    "\n",
    "# Calculate Silhoutte Score\n",
    "score = silhouette_score(ss_data, model.labels_, metric='euclidean')\n",
    "\n",
    "# Print the score\n",
    "print('Silhouetter Score: %.3f' % score)"
   ]
  },
  {
   "cell_type": "code",
   "execution_count": null,
   "metadata": {},
   "outputs": [],
   "source": [
    "from yellowbrick.cluster import SilhouetteVisualizer\n",
    "\n",
    "fig, ax = plt.subplots(2, 2, figsize=(15,8))\n",
    "for i in [2, 3, 4, 5]:\n",
    "    '''\n",
    "    Create KMeans instance for different number of clusters\n",
    "    '''\n",
    "    model = KMeans(n_clusters=i, random_state=10)\n",
    "    q, mod = divmod(i, 2)\n",
    "    '''\n",
    "    Create SilhouetteVisualizer instance with KMeans instance\n",
    "    Fit the visualizer\n",
    "    '''\n",
    "    visualizer = SilhouetteVisualizer(model, colors='yellowbrick', ax=ax[q-1][mod])\n",
    "    visualizer.fit(ss_data)"
   ]
  }
 ],
 "metadata": {
  "kernelspec": {
   "display_name": "Python 3.8.8 ('base')",
   "language": "python",
   "name": "python3"
  },
  "language_info": {
   "name": "python",
   "version": "3.8.8"
  },
  "orig_nbformat": 4,
  "vscode": {
   "interpreter": {
    "hash": "12a0d2b1d70ff388cdb1f75092e2cbd3952a497d10557d7d0e329b18a9b228c4"
   }
  }
 },
 "nbformat": 4,
 "nbformat_minor": 2
}
